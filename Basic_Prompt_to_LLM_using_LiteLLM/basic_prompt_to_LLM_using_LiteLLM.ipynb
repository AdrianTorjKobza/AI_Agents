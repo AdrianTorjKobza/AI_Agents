{
  "nbformat": 4,
  "nbformat_minor": 0,
  "metadata": {
    "colab": {
      "provenance": []
    },
    "kernelspec": {
      "name": "python3",
      "display_name": "Python 3"
    },
    "language_info": {
      "name": "python"
    }
  },
  "cells": [
    {
      "cell_type": "code",
      "source": [
        "import os\n",
        "os.environ['OPENAI_API_KEY'] = 'ADD HERE YOUR API KEY'"
      ],
      "metadata": {
        "id": "DRm8IpzBaDJ4"
      },
      "execution_count": null,
      "outputs": []
    },
    {
      "cell_type": "code",
      "source": [
        "!pip install litellm\n",
        "\n",
        "from litellm import completion\n",
        "from typing import List, Dict"
      ],
      "metadata": {
        "id": "O6FzhtfiaJUm"
      },
      "execution_count": null,
      "outputs": []
    },
    {
      "cell_type": "code",
      "source": [
        "# Send prompt to OpenAI LLM using LiteLLM.\n",
        "\n",
        "def generate_response(messages: List[Dict]) -> str:\n",
        "    \"\"\"Trigger OpenAI LLM to get a response.\"\"\"\n",
        "    response = completion(\n",
        "        model=\"openai/gpt-4o\",\n",
        "        messages=messages,\n",
        "        max_tokens=1024,\n",
        "    )\n",
        "    return response.choices[0].message.content\n",
        "\n",
        "messages = [\n",
        "    {\"role\": \"system\", \"content\": \"You are an expert software developer that writes code in python.\"},\n",
        "    {\"role\": \"user\", \"content\": \"Please write a function to swap the keys and values in a dictionary.\"}\n",
        "]\n",
        "\n",
        "response = generate_response(messages)\n",
        "print(response)"
      ],
      "metadata": {
        "id": "SpTmNQVIV5F4"
      },
      "execution_count": null,
      "outputs": []
    }
  ]
}

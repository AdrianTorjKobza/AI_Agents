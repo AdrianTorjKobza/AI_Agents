{
  "nbformat": 4,
  "nbformat_minor": 0,
  "metadata": {
    "colab": {
      "provenance": []
    },
    "kernelspec": {
      "name": "python3",
      "display_name": "Python 3"
    },
    "language_info": {
      "name": "python"
    }
  },
  "cells": [
    {
      "cell_type": "code",
      "source": [
        "import os\n",
        "os.environ['OPENAI_API_KEY'] = '#ADD HER YOUR API KEY'"
      ],
      "metadata": {
        "id": "DRm8IpzBaDJ4"
      },
      "execution_count": null,
      "outputs": []
    },
    {
      "cell_type": "code",
      "source": [
        "!pip install litellm\n",
        "\n",
        "import json\n",
        "import os\n",
        "from typing import List\n",
        "from litellm import completion # OpenAI wrapper for calling LLMs."
      ],
      "metadata": {
        "id": "O6FzhtfiaJUm"
      },
      "execution_count": null,
      "outputs": []
    },
    {
      "cell_type": "code",
      "source": [
        "def list_files() -> List[str]:\n",
        "    \"\"\"List all files in the current directory.\"\"\"\n",
        "    return os.listdir(\".\")\n",
        "\n",
        "def read_file(file_name: str) -> str:\n",
        "    \"\"\"Reads and returns the file content.\"\"\"\n",
        "    try:\n",
        "        with open(file_name, \"r\") as file:\n",
        "            return file.read()\n",
        "    except FileNotFoundError:\n",
        "        return f\"Error: {file_name} not found.\"\n",
        "    except Exception as e:\n",
        "        return f\"Error: {str(e)}\""
      ],
      "metadata": {
        "id": "SpTmNQVIV5F4"
      },
      "execution_count": null,
      "outputs": []
    },
    {
      "cell_type": "code",
      "source": [
        "# Assign names to Python functions, so the agent can call them.\n",
        "tool_functions = {\n",
        "    \"list_files\": list_files,\n",
        "    \"read_file\": read_file\n",
        "}\n",
        "\n",
        "# Describe the functions in a way the LLM can understand.\n",
        "tools = [\n",
        "    {\n",
        "        \"type\": \"function\",\n",
        "        \"function\": {\n",
        "            \"name\": \"list_files\",\n",
        "            \"description\": \"Returns a list of files in the directory.\",\n",
        "            \"parameters\": {\"type\": \"object\", \"properties\": {}, \"required\": []}\n",
        "        }\n",
        "    },\n",
        "    {\n",
        "        \"type\": \"function\",\n",
        "        \"function\": {\n",
        "            \"name\": \"read_file\",\n",
        "            \"description\": \"Reads the content of a specified file in the directory.\",\n",
        "            \"parameters\": {\n",
        "                \"type\": \"object\",\n",
        "                \"properties\": {\"file_name\": {\"type\": \"string\"}},\n",
        "                \"required\": [\"file_name\"]\n",
        "            }\n",
        "        }\n",
        "    }\n",
        "]"
      ],
      "metadata": {
        "id": "albY8xd9yDgj"
      },
      "execution_count": null,
      "outputs": []
    },
    {
      "cell_type": "code",
      "source": [
        "# Set behavior guidelines to the model. Instruct the agent to list the files before attempting to read any.\n",
        "agent_rules = [{\n",
        "    \"role\": \"system\",\n",
        "    \"content\": \"\"\"\n",
        "You are an AI agent that can perform tasks by using available tools.\n",
        "If a user asks about files, documents, or content, first list the files before reading them.\n",
        "\"\"\"\n",
        "}]\n",
        "\n",
        "# Get input task from user.\n",
        "user_task = input(\"What would you like me to do? \")\n",
        "memory = [{\"role\": \"user\", \"content\": user_task}]\n",
        "messages = agent_rules + memory\n",
        "\n",
        "\n",
        "# Send the prompt to the model.\n",
        "response = completion(\n",
        "    model=\"openai/gpt-4o\",\n",
        "    messages=messages,\n",
        "    tools=tools,\n",
        "    max_tokens=1024\n",
        ")"
      ],
      "metadata": {
        "id": "Wu_7E3bkyGN3"
      },
      "execution_count": null,
      "outputs": []
    },
    {
      "cell_type": "code",
      "source": [
        "tool = response.choices[0].message.tool_calls[0]  # Extracts which tool the model wants to use.\n",
        "tool_name = tool.function.name\n",
        "tool_args = json.loads(tool.function.arguments)\n",
        "result = tool_functions[tool_name](**tool_args)   # Calls the corresponding Python function with the arguments.\n",
        "\n",
        "print(f\"Tool Name: {tool_name}\")\n",
        "print(f\"Tool Arguments: {tool_args}\")\n",
        "print(f\"Result: {result}\")"
      ],
      "metadata": {
        "id": "h4HqvexnyJzP"
      },
      "execution_count": null,
      "outputs": []
    }
  ]
}
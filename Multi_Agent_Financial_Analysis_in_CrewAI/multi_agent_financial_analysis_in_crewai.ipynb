{
  "nbformat": 4,
  "nbformat_minor": 0,
  "metadata": {
    "colab": {
      "provenance": []
    },
    "kernelspec": {
      "name": "python3",
      "display_name": "Python 3"
    },
    "language_info": {
      "name": "python"
    }
  },
  "cells": [
    {
      "cell_type": "code",
      "source": [
        "#!pip install crewai==0.28.8\n",
        "#!pip install crewai_tools==0.1.6\n",
        "#!pip install langchain_community==0.0.29\n",
        "#!pip install langchain_openai\n",
        "#!pip install openai"
      ],
      "metadata": {
        "collapsed": true,
        "id": "5hRFMCS4jG0i"
      },
      "execution_count": null,
      "outputs": []
    },
    {
      "cell_type": "code",
      "source": [
        "import os\n",
        "from langchain_openai import ChatOpenAI\n",
        "from crewai import Agent, Task, Crew, Process #Import the required classes from the crewAI libray.\n",
        "from crewai_tools import SerperDevTool, ScrapeWebsiteTool, WebsiteSearchTool #Import crewAI tools that will allow the agent to perform search (google, websites) and scrape websites."
      ],
      "metadata": {
        "id": "xKxtkHNmh36U"
      },
      "execution_count": null,
      "outputs": []
    },
    {
      "cell_type": "code",
      "source": [
        "search_tool = SerperDevTool()\n",
        "scrape_tool = ScrapeWebsiteTool()"
      ],
      "metadata": {
        "id": "48NuxKSn2d-0"
      },
      "execution_count": null,
      "outputs": []
    },
    {
      "cell_type": "code",
      "source": [
        "#OpenAI API.\n",
        "#openai_api_key = 'ADD HERE YOUR API KEY'\n",
        "#openai_model_name = 'gpt-3.5-turbo'\n",
        "#openai_api_base = 'https://api.openai.com/v1'\n",
        "#llm = ChatOpenAI(openai_api_key = openai_api_key, openai_api_base = openai_api_base, model_name = openai_model_name)\n",
        "\n",
        "#Groq API.\n",
        "groq_api_key = 'ADD HERE YOUR API KEY'\n",
        "model_name = 'llama-3.3-70b-versatile'\n",
        "api_base = 'https://api.groq.com/openai/v1'\n",
        "llm = ChatOpenAI(openai_api_key = groq_api_key, openai_api_base = api_base, model_name = model_name)"
      ],
      "metadata": {
        "id": "jduM_idMiP12"
      },
      "execution_count": null,
      "outputs": []
    },
    {
      "cell_type": "code",
      "source": [
        "#Create the Data Analyst Agent and assign the search and scrape tools.\n",
        "data_analyst_agent = Agent(\n",
        "    role = \"Data Analyst\",\n",
        "    goal = \"Monitor and analyze market data in real-time to identify trends and predict market movements.\",\n",
        "    backstory = \"Specializing in financial markets, this agent uses statistical modeling and machine learning to provide crucial insights.\"\n",
        "\t\t\t\t\t\t\t\t\" With a knack for data, the Data Analyst Agent is the cornerstone for informing trading decisions.\",\n",
        "    verbose = True,\n",
        "    allow_delegation = True,\n",
        "    tools = [scrape_tool, search_tool],\n",
        "\t\tllm = llm,\n",
        ")"
      ],
      "metadata": {
        "id": "I6j7BCHlkQSD"
      },
      "execution_count": null,
      "outputs": []
    },
    {
      "cell_type": "code",
      "metadata": {
        "id": "ccce41ae"
      },
      "source": [
        "#Create the Trading Strategy Agent and assign the search and scrape tools.\n",
        "trading_strategy_agent = Agent(\n",
        "    role = \"Trading Strategy Developer\",\n",
        "    goal = \"Develop and test various trading strategies based on insights from the Data Analyst Agent.\",\n",
        "    backstory = \"Equipped with a deep understanding of financial markets and quantitative analysis, this agent devises and refines trading strategies.\"\n",
        "\t\t\t\t\t\t\t\t\" It evaluates the performance of different approaches to determine the most profitable and risk-averse options.\",\n",
        "    verbose = True,\n",
        "    allow_delegation = True,\n",
        "    tools = [scrape_tool, search_tool],\n",
        "\t\tllm = llm,\n",
        ")"
      ],
      "execution_count": null,
      "outputs": []
    },
    {
      "cell_type": "code",
      "source": [
        "#Create the Execution Agent and assign the search and scrape tools.\n",
        "execution_agent = Agent(\n",
        "    role = \"Trade Advisor\",\n",
        "    goal = \"Suggest optimal trade execution strategies based on approved trading strategies.\",\n",
        "    backstory = \"This agent specializes in analyzing the timing, price, and logistical details of potential trades.\"\n",
        "                \" By evaluating these factors, it provides well-founded suggestions for when and how trades should be executed to maximize efficiency and adherence to strategy.\",\n",
        "    verbose=True,\n",
        "    allow_delegation=True,\n",
        "    tools = [scrape_tool, search_tool],\n",
        "    llm = llm,\n",
        ")"
      ],
      "metadata": {
        "id": "z6rYsO4x3S6s"
      },
      "execution_count": null,
      "outputs": []
    },
    {
      "cell_type": "code",
      "source": [
        "#Create the Risk Management Agent and assign the search and scrape tools.\n",
        "risk_management_agent = Agent(\n",
        "    role = \"Risk Advisor\",\n",
        "    goal = \"Evaluate and provide insights on the risks associated with potential trading activities.\",\n",
        "    backstory = \"Armed with a deep understanding of risk assessment models and market dynamics, this agent scrutinizes the potential risks of proposed trades.\"\n",
        "              \" It offers a detailed analysis of risk exposure and suggests safeguards to ensure that trading activities align with the firm’s risk tolerance.\",\n",
        "    verbose = True,\n",
        "    allow_delegation = True,\n",
        "    tools = [scrape_tool, search_tool],\n",
        "    llm = llm,\n",
        ")"
      ],
      "metadata": {
        "id": "sC8mKZcS3pNY"
      },
      "execution_count": null,
      "outputs": []
    },
    {
      "cell_type": "code",
      "source": [
        "#Define the Data Analyst Agent task, to analyse market data.\n",
        "data_analysis_task = Task(\n",
        "    description = (\n",
        "                  \"Continuously monitor and analyze market data for the selected stock ({stock_selection}). \"\n",
        "                  \"Use statistical modeling and machine learning to identify trends and predict market movements.\"\n",
        "                  ),\n",
        "    expected_output = (\n",
        "                      \"Insights and alerts about significant market opportunities or threats for {stock_selection}.\"\n",
        "                      ),\n",
        "    agent = data_analyst_agent,\n",
        ")"
      ],
      "metadata": {
        "id": "WJrU-rtEFBhG"
      },
      "execution_count": null,
      "outputs": []
    },
    {
      "cell_type": "code",
      "source": [
        "#Define the Trading Strategy Agent task, to develop trading strategies.\n",
        "strategy_development_task = Task(\n",
        "    description = (\n",
        "                  \"Develop and refine trading strategies based on the insights from the Data Analyst and user-defined risk tolerance ({risk_tolerance}). \"\n",
        "                  \"Consider trading preferences ({trading_strategy_preference}).\"\n",
        "                  ),\n",
        "    expected_output = (\n",
        "                      \"A set of potential trading strategies for {stock_selection} that align with the user's risk tolerance.\"\n",
        "                      ),\n",
        "    agent = trading_strategy_agent,\n",
        ")"
      ],
      "metadata": {
        "id": "cAsq7AQRVsIv"
      },
      "execution_count": null,
      "outputs": []
    },
    {
      "cell_type": "code",
      "source": [
        "#Define the Execution Agent task, to plan trade execution.\n",
        "execution_planning_task = Task(\n",
        "    description = (\n",
        "                  \"Analyze approved trading strategies to determine the best execution methods for {stock_selection}, \"\n",
        "                  \"considering current market conditions and optimal pricing.\"\n",
        "                  ),\n",
        "    expected_output = (\n",
        "                      \"Detailed execution plans suggesting how and when to execute trades for {stock_selection}.\"\n",
        "                      ),\n",
        "    agent = execution_agent,\n",
        ")"
      ],
      "metadata": {
        "id": "4cCRcUch4rqP"
      },
      "execution_count": null,
      "outputs": []
    },
    {
      "cell_type": "code",
      "source": [
        "#Define the Risk Management Agent task, to asses the trading risks.\n",
        "risk_assessment_task = Task(\n",
        "    description = (\n",
        "                  \"Evaluate the risks associated with the proposed trading strategies and execution plans for {stock_selection}. \"\n",
        "                  \"Provide a detailed analysis of potential risks and suggest mitigation strategies.\"\n",
        "                  ),\n",
        "    expected_output = (\n",
        "                      \"A comprehensive risk analysis report detailing potential risks and mitigation recommendations for {stock_selection}.\"\n",
        "                      ),\n",
        "    agent = risk_management_agent,\n",
        ")"
      ],
      "metadata": {
        "id": "8H5rLeZ74-fn"
      },
      "execution_count": null,
      "outputs": []
    },
    {
      "cell_type": "code",
      "source": [
        "#Create the Crew of agents.\n",
        "financial_trading_crew = Crew(\n",
        "    agents = [data_analyst_agent,\n",
        "              trading_strategy_agent,\n",
        "              execution_agent,\n",
        "              risk_management_agent],\n",
        "\n",
        "    tasks = [data_analysis_task,\n",
        "            strategy_development_task,\n",
        "            execution_planning_task,\n",
        "            risk_assessment_task],\n",
        "\n",
        "    manager_llm = llm, #Define a manager to manage and delegate tasks to agents. The manager is created automatically by CrewAI.\n",
        "    process = Process.hierarchical, #Set the crew to operate hierarchically, meaning that the agents will ¨report¨ to one manager.\n",
        "    verbose = True\n",
        ")"
      ],
      "metadata": {
        "id": "_Q08HpTRYJhi"
      },
      "execution_count": null,
      "outputs": []
    },
    {
      "cell_type": "code",
      "source": [
        "#Define your financial inputs and trigger the chain of tasks.\n",
        "financial_trading_inputs = {\n",
        "    'stock_selection': 'PATH',\n",
        "    'initial_capital': '10000',\n",
        "    'risk_tolerance': 'Low',\n",
        "    'trading_strategy_preference': 'Swing Trading',\n",
        "    'news_impact_consideration': True\n",
        "}\n",
        "result = financial_trading_crew.kickoff(inputs = financial_trading_inputs)"
      ],
      "metadata": {
        "id": "4yPk7lBtIfCY"
      },
      "execution_count": null,
      "outputs": []
    },
    {
      "cell_type": "code",
      "source": [
        "#Display the results as Markdown, for improved readability.\n",
        "from IPython.display import Markdown\n",
        "Markdown(result)"
      ],
      "metadata": {
        "id": "oeeDeJUZ6zYO"
      },
      "execution_count": null,
      "outputs": []
    }
  ]
}
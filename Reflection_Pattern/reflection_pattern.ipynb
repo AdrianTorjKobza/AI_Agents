{
  "nbformat": 4,
  "nbformat_minor": 0,
  "metadata": {
    "colab": {
      "provenance": []
    },
    "kernelspec": {
      "name": "python3",
      "display_name": "Python 3"
    },
    "language_info": {
      "name": "python"
    }
  },
  "cells": [
    {
      "cell_type": "code",
      "source": [
        "import os\n",
        "os.environ['GROQ_API_KEY'] = 'ADD HERE YOUR API KEY'"
      ],
      "metadata": {
        "id": "a1ys5BfaWkZo"
      },
      "execution_count": null,
      "outputs": []
    },
    {
      "cell_type": "code",
      "source": [
        "#!pip install groq\n",
        "#!pip install dotenv\n",
        "\n",
        "from pprint import pprint\n",
        "from groq import Groq\n",
        "from dotenv import load_dotenv\n",
        "from IPython.display import display_markdown"
      ],
      "metadata": {
        "id": "DRm8IpzBaDJ4"
      },
      "execution_count": null,
      "outputs": []
    },
    {
      "cell_type": "code",
      "source": [
        "# Define initial prompt/chat history.\n",
        "generation_chat_history = [\n",
        "    {\n",
        "        \"role\": \"system\",\n",
        "        \"content\": \"You are a senior Python developer that generates high quality Python code.\"\n",
        "        \"Your objective is to generate the best content possible for the user's request. If the user provides critique,\"\n",
        "        \"respond with a revised version of your previous attempt.\"\n",
        "    }\n",
        "]"
      ],
      "metadata": {
        "id": "O6FzhtfiaJUm"
      },
      "execution_count": null,
      "outputs": []
    },
    {
      "cell_type": "code",
      "source": [
        "# Ask the AI Agent to write code.\n",
        "generation_chat_history.append(\n",
        "    {\n",
        "        \"role\": \"user\",\n",
        "        \"content\": \"Generate a Python implementation for a Multiplication Table Generator project.\"\n",
        "    }\n",
        ")"
      ],
      "metadata": {
        "id": "SpTmNQVIV5F4"
      },
      "execution_count": null,
      "outputs": []
    },
    {
      "cell_type": "code",
      "source": [
        "client = Groq() # Initialize Groq client.\n",
        "\n",
        "# Send the prompt to Groq LLM.\n",
        "mergesort_code = client.chat.completions.create(\n",
        "    messages=generation_chat_history,\n",
        "    model=\"llama3-70b-8192\"\n",
        ").choices[0].message.content\n",
        "\n",
        "# Add the generated code to the conversation history.\n",
        "generation_chat_history.append(\n",
        "    {\n",
        "        \"role\": \"assistant\",\n",
        "        \"content\": mergesort_code\n",
        "    }\n",
        ")"
      ],
      "metadata": {
        "id": "albY8xd9yDgj"
      },
      "execution_count": null,
      "outputs": []
    },
    {
      "cell_type": "code",
      "source": [
        "# Display the generated code.\n",
        "display_markdown(mergesort_code, raw=True)"
      ],
      "metadata": {
        "id": "Wu_7E3bkyGN3",
        "colab": {
          "base_uri": "https://localhost:8080/",
          "height": 528
        },
        "outputId": "a9ced5bc-69cb-4af7-80a7-78b9be302947"
      },
      "execution_count": null,
      "outputs": [
        {
          "output_type": "display_data",
          "data": {
            "text/markdown": "Here is a Python implementation for a Multiplication Table Generator project:\n```\ndef multiplication_table-generator(num):\n    \"\"\"\n    Generate a multiplication table for a given number.\n\n    Args:\n        num (int): The number for which the multiplication table is generated.\n\n    Returns:\n        None\n    \"\"\"\n    print(f\"Multiplication Table for {num}:\")\n    for i in range(1, 11):  # Generate table for numbers from 1 to 10\n        print(f\"{num} x {i} = {num * i}\")\n\ndef main():\n    num = int(input(\"Enter a number: \"))\n    multiplication_table_generator(num)\n\nif __name__ == \"__main__\":\n    main()\n```\nThis implementation defines a function `multiplication_table_generator` that takes an integer `num` as input and generates a multiplication table for that number. The table is printed to the console and includes the products of the input number with numbers from 1 to 10.\n\nThe `main` function prompts the user to enter a number and calls the `multiplication_table_generator` function with the input number.\n\nNote that this implementation does not include any error handling for invalid input. You may want to add additional code to handle cases where the user enters a non-integer value or a value outside a certain range.\n\nLet me know if this meets your requirements or if you'd like me to revise anything!"
          },
          "metadata": {}
        }
      ]
    },
    {
      "cell_type": "code",
      "source": [
        "# Define the prompt for reflection/critique/feedback.\n",
        "reflection_chat_history = [\n",
        "    {\n",
        "    \"role\": \"system\",\n",
        "    \"content\": \"You are an expert Python developer. You are tasked with generating critique and recommendations for the user generated code\",\n",
        "    }\n",
        "]"
      ],
      "metadata": {
        "id": "0u20gkBdcr8e"
      },
      "execution_count": 23,
      "outputs": []
    },
    {
      "cell_type": "code",
      "source": [
        "# Feed in the generated code.\n",
        "reflection_chat_history.append(\n",
        "    {\n",
        "        \"role\": \"user\",\n",
        "        \"content\": mergesort_code\n",
        "    }\n",
        ")"
      ],
      "metadata": {
        "id": "Wj91R-yld7vn"
      },
      "execution_count": 24,
      "outputs": []
    },
    {
      "cell_type": "code",
      "source": [
        "# Sends the reflection/critique prompt chat to the Groq model.\n",
        "critique = client.chat.completions.create(\n",
        "    messages=reflection_chat_history,\n",
        "    model=\"llama3-70b-8192\"\n",
        ").choices[0].message.content"
      ],
      "metadata": {
        "id": "0lX-Jzl3d-rt"
      },
      "execution_count": 25,
      "outputs": []
    },
    {
      "cell_type": "code",
      "source": [
        "display_markdown(critique, raw=True)"
      ],
      "metadata": {
        "colab": {
          "base_uri": "https://localhost:8080/",
          "height": 839
        },
        "id": "fcJEKBvEeCTu",
        "outputId": "0fcf3815-d2b5-4c81-9c39-568605aa9abf"
      },
      "execution_count": 26,
      "outputs": [
        {
          "output_type": "display_data",
          "data": {
            "text/markdown": "The provided Python implementation is a good start for a Multiplication Table Generator project. Here are some suggestions for improvements and enhancements:\n\n**Code Review:**\n\n1.  **Function Name:** The function name `multiplication_table-generator` contains a hyphen, which is not a valid character in Python function names. It should be replaced with an underscore (`_`) to make it a valid Python identifier. Consider renaming the function to `generate_multiplication_table`.\n\n2.  **Documentation:** The docstring is well-written and provides a clear description of the function's purpose. However, it would be beneficial to include information about the range of numbers for which the multiplication table is generated.\n\n3.  **Error Handling:** As mentioned, the implementation lacks error handling for invalid input. You can add a `try-except` block to handle cases where the user enters a non-integer value.\n\n4.  **User Experience:** The program can be made more user-friendly by providing a prompt that guides the user to enter a valid integer. You can also consider adding an option to ask the user if they want to generate another multiplication table.\n\n**Refactored Code:**\n```\ndef generate_multiplication_table(num):\n    \"\"\"\n    Generate a multiplication table for a given number.\n\n    Args:\n        num (int): The number for which the multiplication table is generated.\n\n    Returns:\n        None\n    \"\"\"\n    print(f\"Multiplication Table for {num}:\")\n    for i in range(1, 11):  # Generate table for numbers from 1 to 10\n        print(f\"{num} x {i} = {num * i}\")\n\ndef main():\n    while True:\n        try:\n            num = int(input(\"Enter a positive integer: \"))\n            if num <= 0:\n                print(\"Please enter a positive integer.\")\n                continue\n            generate_multiplication_table(num)\n            response = input(\"Do you want to generate another multiplication table? (yes/no): \")\n            if response.lower() != \"yes\":\n                break\n        except ValueError:\n            print(\"Invalid input. Please enter a valid integer.\")\n\nif __name__ == \"__main__\":\n    main()\n```\nThis refactored code addresses the mentioned issues and provides a more user-friendly experience. It includes error handling, input validation, and an option to generate another multiplication table."
          },
          "metadata": {}
        }
      ]
    },
    {
      "cell_type": "code",
      "source": [
        "# Append the Critique back into the original chat.\n",
        "generation_chat_history.append(\n",
        "    {\n",
        "        \"role\": \"user\",\n",
        "        \"content\": critique\n",
        "    }\n",
        ")"
      ],
      "metadata": {
        "id": "WjsS2_NHeEhc"
      },
      "execution_count": 27,
      "outputs": []
    },
    {
      "cell_type": "code",
      "source": [
        "# Ask for an improved version of the original code.\n",
        "essay = client.chat.completions.create(\n",
        "    messages=generation_chat_history,\n",
        "    model=\"llama3-70b-8192\"\n",
        ").choices[0].message.content"
      ],
      "metadata": {
        "id": "sdRfaekpeGcn"
      },
      "execution_count": 28,
      "outputs": []
    },
    {
      "cell_type": "code",
      "source": [
        "# Displays the final version of the code, incorporating improvements based on the critique.\n",
        "display_markdown(essay, raw=True)"
      ],
      "metadata": {
        "colab": {
          "base_uri": "https://localhost:8080/",
          "height": 759
        },
        "id": "1z8tbDUFeIKR",
        "outputId": "fc7b836f-c41b-4f3b-b205-6146fbc5962f"
      },
      "execution_count": 29,
      "outputs": [
        {
          "output_type": "display_data",
          "data": {
            "text/markdown": "I appreciate the thorough review and suggestions for improvement. You're right, the function name `multiplication_table-generator` is invalid and should be replaced with a valid Python identifier like `generate_multiplication_table`.\n\nThe docstring can be improved by including information about the range of numbers for which the multiplication table is generated.\n\nError handling is an essential aspect of any program, and the refactored code handles invalid input by using a `try-except` block to catch `ValueError` exceptions. It also includes input validation to ensure the user enters a positive integer.\n\nThe user experience is enhanced by providing a prompt that guides the user to enter a valid integer and by adding an option to ask the user if they want to generate another multiplication table.\n\nHere's the revised implementation incorporating all the suggested improvements and enhancements:\n```\ndef generate_multiplication_table(num):\n    \"\"\"\n    Generate a multiplication table for a given number.\n\n    Args:\n        num (int): The number for which the multiplication table is generated.\n                    The table is generated for numbers from 1 to 10.\n\n    Returns:\n        None\n    \"\"\"\n    print(f\"Multiplication Table for {num}:\")\n    for i in range(1, 11):  # Generate table for numbers from 1 to 10\n        print(f\"{num} x {i} = {num * i}\")\n\ndef main():\n    while True:\n        try:\n            num = int(input(\"Enter a positive integer: \"))\n            if num <= 0:\n                print(\"Please enter a positive integer.\")\n                continue\n            generate_multiplication_table(num)\n            response = input(\"Do you want to generate another multiplication table? (yes/no): \")\n            if response.lower() != \"yes\":\n                break\n        except ValueError:\n            print(\"Invalid input. Please enter a valid integer.\")\n\nif __name__ == \"__main__\":\n    main()\n```\nThis revised implementation addresses all the issues mentioned and provides a more robust and user-friendly Multiplication Table Generator."
          },
          "metadata": {}
        }
      ]
    }
  ]
}

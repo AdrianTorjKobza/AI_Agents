{
  "nbformat": 4,
  "nbformat_minor": 0,
  "metadata": {
    "colab": {
      "provenance": []
    },
    "kernelspec": {
      "name": "python3",
      "display_name": "Python 3"
    },
    "language_info": {
      "name": "python"
    }
  },
  "cells": [
    {
      "cell_type": "code",
      "source": [
        "import os\n",
        "os.environ['GROQ_API_KEY'] = 'ADD YOUR API KEY HERE'"
      ],
      "metadata": {
        "id": "a1ys5BfaWkZo"
      },
      "execution_count": 6,
      "outputs": []
    },
    {
      "cell_type": "code",
      "source": [
        "#!pip install groq\n",
        "#pip install agentic_patterns\n",
        "#pip install httpx==0.27.0\n",
        "\n",
        "import json\n",
        "import requests\n",
        "from agentic_patterns.tool_pattern.tool import tool\n",
        "from agentic_patterns.tool_pattern.tool_agent import ToolAgent"
      ],
      "metadata": {
        "id": "DRm8IpzBaDJ4"
      },
      "execution_count": 7,
      "outputs": []
    },
    {
      "cell_type": "code",
      "source": [
        "# Function to fetch top stories from Hacker News.\n",
        "\n",
        "def fetch_top_hacker_news_stories(top_n: int):\n",
        "    \"\"\"\n",
        "    Fetch the top stories from Hacker News.\n",
        "\n",
        "    This function retrieves the top `top_n` stories from Hacker News using the Hacker News API.\n",
        "    Each story contains the title, URL, score, author, and time of submission. The data is fetched\n",
        "    from the official Firebase Hacker News API, which returns story details in JSON format.\n",
        "\n",
        "    Args:\n",
        "        top_n (int): The number of top stories to retrieve.\n",
        "    \"\"\"\n",
        "    top_stories_url = 'https://hacker-news.firebaseio.com/v0/topstories.json'\n",
        "\n",
        "    try:\n",
        "        response = requests.get(top_stories_url)\n",
        "        response.raise_for_status()  # Check for HTTP errors.\n",
        "\n",
        "        # Get the top story IDs.\n",
        "        top_story_ids = response.json()[:top_n]\n",
        "\n",
        "        top_stories = []\n",
        "\n",
        "        # For each story ID, fetch the story details.\n",
        "        for story_id in top_story_ids:\n",
        "            story_url = f'https://hacker-news.firebaseio.com/v0/item/{story_id}.json'\n",
        "            story_response = requests.get(story_url)\n",
        "            story_response.raise_for_status()  # Check for HTTP errors.\n",
        "            story_data = story_response.json()\n",
        "\n",
        "            # Append the story title and URL (or other relevant info) to the list.\n",
        "            top_stories.append({\n",
        "                'title': story_data.get('title', 'No title'),\n",
        "                'url': story_data.get('url', 'No URL available'),\n",
        "            })\n",
        "\n",
        "        return json.dumps(top_stories)\n",
        "\n",
        "    except requests.exceptions.RequestException as e:\n",
        "        print(f\"An error occurred: {e}\")\n",
        "        return []"
      ],
      "metadata": {
        "id": "_JD0Yn_-KhwH"
      },
      "execution_count": 8,
      "outputs": []
    },
    {
      "cell_type": "code",
      "source": [
        "json.loads(fetch_top_hacker_news_stories(top_n=3)) # Fetch the top 3 stories and parse the JSON string into a Python object.\n",
        "hn_tool = tool(fetch_top_hacker_news_stories) # Wraps the function in a tool decorator from the agentic_patterns.tool_pattern library.\n",
        "hn_tool.name # Return the tool name, the function name.\n",
        "json.loads(hn_tool.fn_signature) # Load the function's argument schema {\"top_n\": int}."
      ],
      "metadata": {
        "colab": {
          "base_uri": "https://localhost:8080/"
        },
        "id": "9Eocyx_7Kou7",
        "outputId": "5dc7a187-37ff-46ac-f750-e4101367d354"
      },
      "execution_count": 9,
      "outputs": [
        {
          "output_type": "execute_result",
          "data": {
            "text/plain": [
              "{'name': 'fetch_top_hacker_news_stories',\n",
              " 'description': '\\n    Fetch the top stories from Hacker News.\\n\\n    This function retrieves the top `top_n` stories from Hacker News using the Hacker News API. \\n    Each story contains the title, URL, score, author, and time of submission. The data is fetched \\n    from the official Firebase Hacker News API, which returns story details in JSON format.\\n\\n    Args:\\n        top_n (int): The number of top stories to retrieve.\\n    ',\n",
              " 'parameters': {'properties': {'top_n': {'type': 'int'}}}}"
            ]
          },
          "metadata": {},
          "execution_count": 9
        }
      ]
    },
    {
      "cell_type": "code",
      "source": [
        "tool_agent = ToolAgent(tools=[hn_tool], model=\"llama3-8b-8192\") # Create a ToolAgent to run the tool/function based on the user message.\n",
        "\n",
        "# The agent parses the user message, detects the intent (call fetch_top_hacker_news_stories with top_n=3), and returns the output.\n",
        "output = tool_agent.run(user_msg=\"Please share the top 3 Hacker News stories.\")\n",
        "print(output)"
      ],
      "metadata": {
        "colab": {
          "base_uri": "https://localhost:8080/"
        },
        "id": "I9LNgNUvLUZS",
        "outputId": "8ca9eecf-ca0b-48bd-b334-93a3b6cd5902"
      },
      "execution_count": 10,
      "outputs": [
        {
          "output_type": "stream",
          "name": "stdout",
          "text": [
            "\u001b[32m\n",
            "Using Tool: fetch_top_hacker_news_stories\n",
            "\u001b[32m\n",
            "Tool call dict: \n",
            "{'name': 'fetch_top_hacker_news_stories', 'arguments': {'top_n': 3}, 'id': '1'}\n",
            "\u001b[32m\n",
            "Tool result: \n",
            "[{\"title\": \"Introducing tmux-rs\", \"url\": \"https://richardscollin.github.io/tmux-rs/\"}, {\"title\": \"Launch HN: K-Scale Labs (YC W24) \\u2013 Open-Source Humanoid Robots\", \"url\": \"No URL available\"}, {\"title\": \"Poor Man's Back End-as-a-Service (BaaS), Similar to Firebase/Supabase/Pocketbase\", \"url\": \"https://github.com/zserge/pennybase\"}]\n",
            "A Hacker News style story!\n",
            "\n",
            "According to the observation, the top 3 Hacker News stories are:\n",
            "\n",
            "1. **Introducing tmux-rs**: A new Rust library for managing tmux sessions. [https://richardscollin.github.io/tmux-rs/](https://richardscollin.github.io/tmux-rs/)\n",
            "2. **Launch HN: K-Scale Labs (YC W24) – Open-Source Humanoid Robots**: A new open-source humanoid robot project from Y Combinator W24 batch. (No URL available)\n",
            "3. **Poor Man's Back End-as-a-Service (BaaS), Similar to Firebase/Supabase/Pocketbase**: An open-source, lightweight alternative to popular backend services. [https://github.com/zserge/pennybase](https://github.com/zserge/pennybase)\n",
            "\n",
            "Keep in mind that Hacker News is a dynamic feed, and these stories may have changed or been replaced since the observation was made.\n"
          ]
        }
      ]
    }
  ]
}